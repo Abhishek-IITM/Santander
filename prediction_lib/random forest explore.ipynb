{
 "cells": [
  {
   "cell_type": "code",
   "execution_count": 2,
   "metadata": {},
   "outputs": [],
   "source": [
    "import pandas as pd\n",
    "from sklearn.ensemble import RandomForestClassifier\n",
    "from sklearn.model_selection import StratifiedKFold, train_test_split, GridSearchCV\n",
    "import numpy as np\n",
    "import datetime as dt\n",
    "from sklearn.metrics import auc"
   ]
  },
  {
   "cell_type": "code",
   "execution_count": 3,
   "metadata": {},
   "outputs": [
    {
     "name": "stdout",
     "output_type": "stream",
     "text": [
      "Train Size:(98000, 200), (98000,)\n",
      "Test Size:(60000, 200), (60000,)\n",
      "Eval Size:(42000, 200), (42000,)\n"
     ]
    }
   ],
   "source": [
    "train_df = pd.read_csv('train.csv')\n",
    "train_x = train_df.drop(columns=['ID_code', 'target'])\n",
    "train_y = train_df['target']\n",
    "\n",
    "x_train, x_test, y_train, y_test = train_test_split(train_x, train_y, test_size = 0.3)\n",
    "x_train, x_eval, y_train, y_eval = train_test_split(x_train, y_train, test_size = 0.3)\n",
    "\n",
    "print('Train Size:{}, {}\\nTest Size:{}, {}\\nEval Size:{}, {}'\n",
    "      .format(x_train.shape, y_train.shape, x_test.shape, y_test.shape, \n",
    "              x_eval.shape, y_eval.shape))"
   ]
  },
  {
   "cell_type": "code",
   "execution_count": 7,
   "metadata": {},
   "outputs": [
    {
     "name": "stdout",
     "output_type": "stream",
     "text": [
      "Fitting 10 folds for each of 16 candidates, totalling 160 fits\n"
     ]
    },
    {
     "name": "stderr",
     "output_type": "stream",
     "text": [
      "[Parallel(n_jobs=4)]: Using backend LokyBackend with 4 concurrent workers.\n",
      "[Parallel(n_jobs=4)]: Done   1 tasks      | elapsed:  4.5min\n",
      "[Parallel(n_jobs=4)]: Done   2 tasks      | elapsed:  4.5min\n",
      "[Parallel(n_jobs=4)]: Done   3 tasks      | elapsed:  4.5min\n",
      "[Parallel(n_jobs=4)]: Done   4 tasks      | elapsed:  4.5min\n",
      "[Parallel(n_jobs=4)]: Done   5 tasks      | elapsed:  8.9min\n",
      "[Parallel(n_jobs=4)]: Done   6 tasks      | elapsed:  8.9min\n",
      "[Parallel(n_jobs=4)]: Done   7 tasks      | elapsed:  8.9min\n",
      "[Parallel(n_jobs=4)]: Done   8 tasks      | elapsed:  8.9min\n",
      "[Parallel(n_jobs=4)]: Done   9 tasks      | elapsed: 13.1min\n",
      "[Parallel(n_jobs=4)]: Done  10 tasks      | elapsed: 13.2min\n",
      "[Parallel(n_jobs=4)]: Done  11 tasks      | elapsed: 17.7min\n",
      "[Parallel(n_jobs=4)]: Done  12 tasks      | elapsed: 17.7min\n",
      "[Parallel(n_jobs=4)]: Done  13 tasks      | elapsed: 21.8min\n",
      "[Parallel(n_jobs=4)]: Done  14 tasks      | elapsed: 21.9min\n",
      "[Parallel(n_jobs=4)]: Done  15 tasks      | elapsed: 26.1min\n",
      "[Parallel(n_jobs=4)]: Done  16 tasks      | elapsed: 26.1min\n",
      "[Parallel(n_jobs=4)]: Done  17 tasks      | elapsed: 30.0min\n",
      "[Parallel(n_jobs=4)]: Done  18 tasks      | elapsed: 30.0min\n",
      "[Parallel(n_jobs=4)]: Done  19 tasks      | elapsed: 34.5min\n",
      "[Parallel(n_jobs=4)]: Done  20 tasks      | elapsed: 34.5min\n",
      "[Parallel(n_jobs=4)]: Done  21 tasks      | elapsed: 43.5min\n",
      "[Parallel(n_jobs=4)]: Done  22 tasks      | elapsed: 43.5min\n",
      "[Parallel(n_jobs=4)]: Done  23 tasks      | elapsed: 47.9min\n",
      "[Parallel(n_jobs=4)]: Done  24 tasks      | elapsed: 47.9min\n",
      "[Parallel(n_jobs=4)]: Done  25 tasks      | elapsed: 56.6min\n",
      "[Parallel(n_jobs=4)]: Done  26 tasks      | elapsed: 56.6min\n",
      "[Parallel(n_jobs=4)]: Done  27 tasks      | elapsed: 61.1min\n",
      "[Parallel(n_jobs=4)]: Done  28 tasks      | elapsed: 61.1min\n",
      "[Parallel(n_jobs=4)]: Done  29 tasks      | elapsed: 69.8min\n",
      "[Parallel(n_jobs=4)]: Done  30 tasks      | elapsed: 69.8min\n",
      "[Parallel(n_jobs=4)]: Done  31 tasks      | elapsed: 78.2min\n",
      "[Parallel(n_jobs=4)]: Done  32 tasks      | elapsed: 78.2min\n",
      "[Parallel(n_jobs=4)]: Done  33 tasks      | elapsed: 86.4min\n",
      "[Parallel(n_jobs=4)]: Done  34 tasks      | elapsed: 86.5min\n",
      "[Parallel(n_jobs=4)]: Done  35 tasks      | elapsed: 94.8min\n",
      "[Parallel(n_jobs=4)]: Done  36 tasks      | elapsed: 94.8min\n",
      "[Parallel(n_jobs=4)]: Done  37 tasks      | elapsed: 103.5min\n",
      "[Parallel(n_jobs=4)]: Done  38 tasks      | elapsed: 103.5min\n",
      "[Parallel(n_jobs=4)]: Done  39 tasks      | elapsed: 111.9min\n",
      "[Parallel(n_jobs=4)]: Done  40 tasks      | elapsed: 111.9min\n",
      "[Parallel(n_jobs=4)]: Done  41 tasks      | elapsed: 112.1min\n",
      "[Parallel(n_jobs=4)]: Done  42 tasks      | elapsed: 112.1min\n",
      "[Parallel(n_jobs=4)]: Done  43 tasks      | elapsed: 119.7min\n",
      "[Parallel(n_jobs=4)]: Done  44 tasks      | elapsed: 119.7min\n",
      "[Parallel(n_jobs=4)]: Done  45 tasks      | elapsed: 119.9min\n",
      "[Parallel(n_jobs=4)]: Done  46 tasks      | elapsed: 120.0min\n",
      "[Parallel(n_jobs=4)]: Done  47 tasks      | elapsed: 128.3min\n",
      "[Parallel(n_jobs=4)]: Done  48 tasks      | elapsed: 128.4min\n",
      "[Parallel(n_jobs=4)]: Done  49 tasks      | elapsed: 128.5min\n",
      "[Parallel(n_jobs=4)]: Done  50 tasks      | elapsed: 128.6min\n",
      "[Parallel(n_jobs=4)]: Done  51 tasks      | elapsed: 144.2min\n",
      "[Parallel(n_jobs=4)]: Done  52 tasks      | elapsed: 144.2min\n",
      "[Parallel(n_jobs=4)]: Done  53 tasks      | elapsed: 144.4min\n",
      "[Parallel(n_jobs=4)]: Done  54 tasks      | elapsed: 144.5min\n",
      "[Parallel(n_jobs=4)]: Done  55 tasks      | elapsed: 160.6min\n",
      "[Parallel(n_jobs=4)]: Done  56 tasks      | elapsed: 160.6min\n",
      "[Parallel(n_jobs=4)]: Done  57 tasks      | elapsed: 160.9min\n",
      "[Parallel(n_jobs=4)]: Done  58 tasks      | elapsed: 160.9min\n",
      "[Parallel(n_jobs=4)]: Done  59 tasks      | elapsed: 177.4min\n",
      "[Parallel(n_jobs=4)]: Done  60 tasks      | elapsed: 177.4min\n",
      "[Parallel(n_jobs=4)]: Done  61 tasks      | elapsed: 186.0min\n",
      "[Parallel(n_jobs=4)]: Done  62 tasks      | elapsed: 186.0min\n",
      "[Parallel(n_jobs=4)]: Done  63 tasks      | elapsed: 202.0min\n",
      "[Parallel(n_jobs=4)]: Done  64 tasks      | elapsed: 202.0min\n",
      "[Parallel(n_jobs=4)]: Done  65 tasks      | elapsed: 210.3min\n",
      "[Parallel(n_jobs=4)]: Done  66 tasks      | elapsed: 210.4min\n",
      "[Parallel(n_jobs=4)]: Done  67 tasks      | elapsed: 226.7min\n",
      "[Parallel(n_jobs=4)]: Done  68 tasks      | elapsed: 226.7min\n",
      "[Parallel(n_jobs=4)]: Done  69 tasks      | elapsed: 235.5min\n",
      "[Parallel(n_jobs=4)]: Done  70 tasks      | elapsed: 235.5min\n",
      "[Parallel(n_jobs=4)]: Done  71 tasks      | elapsed: 260.7min\n",
      "[Parallel(n_jobs=4)]: Done  72 tasks      | elapsed: 260.7min\n",
      "[Parallel(n_jobs=4)]: Done  73 tasks      | elapsed: 269.4min\n",
      "[Parallel(n_jobs=4)]: Done  74 tasks      | elapsed: 269.5min\n",
      "[Parallel(n_jobs=4)]: Done  75 tasks      | elapsed: 294.6min\n",
      "[Parallel(n_jobs=4)]: Done  76 tasks      | elapsed: 294.7min\n",
      "[Parallel(n_jobs=4)]: Done  77 tasks      | elapsed: 303.5min\n",
      "[Parallel(n_jobs=4)]: Done  78 tasks      | elapsed: 303.6min\n",
      "[Parallel(n_jobs=4)]: Done  79 tasks      | elapsed: 316.1min\n",
      "[Parallel(n_jobs=4)]: Done  80 tasks      | elapsed: 316.2min\n",
      "[Parallel(n_jobs=4)]: Done  81 tasks      | elapsed: 323.2min\n",
      "[Parallel(n_jobs=4)]: Done  82 tasks      | elapsed: 323.3min\n",
      "[Parallel(n_jobs=4)]: Done  83 tasks      | elapsed: 323.4min\n",
      "[Parallel(n_jobs=4)]: Done  84 tasks      | elapsed: 323.4min\n",
      "[Parallel(n_jobs=4)]: Done  85 tasks      | elapsed: 329.1min\n",
      "[Parallel(n_jobs=4)]: Done  86 tasks      | elapsed: 329.2min\n",
      "[Parallel(n_jobs=4)]: Done  87 tasks      | elapsed: 329.2min\n",
      "[Parallel(n_jobs=4)]: Done  88 tasks      | elapsed: 329.3min\n",
      "[Parallel(n_jobs=4)]: Done  89 tasks      | elapsed: 335.1min\n",
      "[Parallel(n_jobs=4)]: Done  90 tasks      | elapsed: 335.2min\n",
      "[Parallel(n_jobs=4)]: Done  91 tasks      | elapsed: 340.4min\n",
      "[Parallel(n_jobs=4)]: Done  92 tasks      | elapsed: 340.4min\n",
      "[Parallel(n_jobs=4)]: Done  93 tasks      | elapsed: 345.5min\n",
      "[Parallel(n_jobs=4)]: Done  94 tasks      | elapsed: 345.6min\n",
      "[Parallel(n_jobs=4)]: Done  95 tasks      | elapsed: 350.8min\n",
      "[Parallel(n_jobs=4)]: Done  96 tasks      | elapsed: 350.8min\n",
      "[Parallel(n_jobs=4)]: Done  97 tasks      | elapsed: 356.8min\n",
      "[Parallel(n_jobs=4)]: Done  98 tasks      | elapsed: 357.0min\n",
      "[Parallel(n_jobs=4)]: Done  99 tasks      | elapsed: 369.4min\n",
      "[Parallel(n_jobs=4)]: Done 100 tasks      | elapsed: 369.4min\n",
      "[Parallel(n_jobs=4)]: Done 101 tasks      | elapsed: 394.0min\n",
      "[Parallel(n_jobs=4)]: Done 102 tasks      | elapsed: 394.2min\n",
      "[Parallel(n_jobs=4)]: Done 103 tasks      | elapsed: 406.6min\n",
      "[Parallel(n_jobs=4)]: Done 104 tasks      | elapsed: 406.6min\n",
      "[Parallel(n_jobs=4)]: Done 105 tasks      | elapsed: 430.7min\n",
      "[Parallel(n_jobs=4)]: Done 106 tasks      | elapsed: 431.0min\n",
      "[Parallel(n_jobs=4)]: Done 107 tasks      | elapsed: 443.6min\n",
      "[Parallel(n_jobs=4)]: Done 108 tasks      | elapsed: 443.7min\n",
      "[Parallel(n_jobs=4)]: Done 109 tasks      | elapsed: 466.1min\n",
      "[Parallel(n_jobs=4)]: Done 110 tasks      | elapsed: 466.3min\n",
      "[Parallel(n_jobs=4)]: Done 111 tasks      | elapsed: 477.9min\n",
      "[Parallel(n_jobs=4)]: Done 112 tasks      | elapsed: 477.9min\n",
      "[Parallel(n_jobs=4)]: Done 113 tasks      | elapsed: 488.2min\n",
      "[Parallel(n_jobs=4)]: Done 114 tasks      | elapsed: 488.3min\n",
      "[Parallel(n_jobs=4)]: Done 115 tasks      | elapsed: 500.8min\n",
      "[Parallel(n_jobs=4)]: Done 116 tasks      | elapsed: 500.8min\n",
      "[Parallel(n_jobs=4)]: Done 117 tasks      | elapsed: 511.1min\n",
      "[Parallel(n_jobs=4)]: Done 118 tasks      | elapsed: 511.3min\n",
      "[Parallel(n_jobs=4)]: Done 119 tasks      | elapsed: 517.9min\n",
      "[Parallel(n_jobs=4)]: Done 120 tasks      | elapsed: 518.1min\n",
      "[Parallel(n_jobs=4)]: Done 121 tasks      | elapsed: 521.7min\n",
      "[Parallel(n_jobs=4)]: Done 122 tasks      | elapsed: 521.7min\n",
      "[Parallel(n_jobs=4)]: Done 123 tasks      | elapsed: 524.6min\n",
      "[Parallel(n_jobs=4)]: Done 124 tasks      | elapsed: 524.9min\n",
      "[Parallel(n_jobs=4)]: Done 125 tasks      | elapsed: 528.5min\n",
      "[Parallel(n_jobs=4)]: Done 126 tasks      | elapsed: 528.5min\n",
      "[Parallel(n_jobs=4)]: Done 127 tasks      | elapsed: 531.4min\n",
      "[Parallel(n_jobs=4)]: Done 128 tasks      | elapsed: 531.7min\n",
      "[Parallel(n_jobs=4)]: Done 129 tasks      | elapsed: 535.3min\n",
      "[Parallel(n_jobs=4)]: Done 130 tasks      | elapsed: 535.3min\n",
      "[Parallel(n_jobs=4)]: Done 131 tasks      | elapsed: 545.1min\n",
      "[Parallel(n_jobs=4)]: Done 132 tasks      | elapsed: 545.3min\n"
     ]
    },
    {
     "name": "stderr",
     "output_type": "stream",
     "text": [
      "[Parallel(n_jobs=4)]: Done 133 tasks      | elapsed: 548.9min\n",
      "[Parallel(n_jobs=4)]: Done 134 tasks      | elapsed: 548.9min\n",
      "[Parallel(n_jobs=4)]: Done 135 tasks      | elapsed: 558.7min\n",
      "[Parallel(n_jobs=4)]: Done 136 tasks      | elapsed: 558.9min\n",
      "[Parallel(n_jobs=4)]: Done 137 tasks      | elapsed: 562.5min\n",
      "[Parallel(n_jobs=4)]: Done 138 tasks      | elapsed: 562.5min\n",
      "[Parallel(n_jobs=4)]: Done 139 tasks      | elapsed: 572.3min\n",
      "[Parallel(n_jobs=4)]: Done 140 tasks      | elapsed: 572.6min\n",
      "[Parallel(n_jobs=4)]: Done 141 tasks      | elapsed: 582.6min\n",
      "[Parallel(n_jobs=4)]: Done 142 tasks      | elapsed: 582.6min\n",
      "[Parallel(n_jobs=4)]: Done 143 tasks      | elapsed: 592.3min\n",
      "[Parallel(n_jobs=4)]: Done 144 tasks      | elapsed: 592.5min\n",
      "[Parallel(n_jobs=4)]: Done 145 tasks      | elapsed: 602.9min\n",
      "[Parallel(n_jobs=4)]: Done 146 tasks      | elapsed: 602.9min\n",
      "[Parallel(n_jobs=4)]: Done 147 tasks      | elapsed: 612.8min\n",
      "[Parallel(n_jobs=4)]: Done 148 tasks      | elapsed: 613.0min\n",
      "[Parallel(n_jobs=4)]: Done 149 tasks      | elapsed: 623.5min\n",
      "[Parallel(n_jobs=4)]: Done 150 tasks      | elapsed: 623.5min\n",
      "[Parallel(n_jobs=4)]: Done 151 tasks      | elapsed: 640.4min\n",
      "[Parallel(n_jobs=4)]: Done 152 tasks      | elapsed: 640.6min\n",
      "[Parallel(n_jobs=4)]: Done 153 tasks      | elapsed: 651.3min\n",
      "[Parallel(n_jobs=4)]: Done 160 out of 160 | elapsed: 695.4min finished\n"
     ]
    }
   ],
   "source": [
    "rf_model = RandomForestClassifier()\n",
    "\n",
    "params = {'criterion':'gini', 'min_samples_split':2, 'min_samples_leaf':1, 'oob_score':True, \n",
    "          'verbose':2}\n",
    "\n",
    "params_grid = {'n_estimators':np.arange(200,1000,200), 'max_depth':np.arange(4,20,4)}\n",
    "\n",
    "kfold = StratifiedKFold(n_splits=10, shuffle=True, random_state=1011)\n",
    "grid_search = GridSearchCV(rf_model, param_grid=params_grid, cv=kfold, scoring='roc_auc', \n",
    "                           n_jobs=4, verbose=20)\n",
    "grid_search = grid_search.fit(x_train, y_train)"
   ]
  },
  {
   "cell_type": "code",
   "execution_count": 8,
   "metadata": {},
   "outputs": [
    {
     "data": {
      "text/plain": [
       "(0.8328370149204536, {'max_depth': 16, 'n_estimators': 800})"
      ]
     },
     "execution_count": 8,
     "metadata": {},
     "output_type": "execute_result"
    }
   ],
   "source": [
    "grid_search.best_score_, grid_search.best_params_"
   ]
  },
  {
   "cell_type": "code",
   "execution_count": 13,
   "metadata": {},
   "outputs": [],
   "source": [
    "def summarize_cv_results(grid_result):\n",
    "    # summarize results\n",
    "    print(\"Best: %f using %s\" % (grid_result.best_score_, grid_result.best_params_))\n",
    "    means = grid_result.cv_results_['mean_test_score']\n",
    "    stds = grid_result.cv_results_['std_test_score']\n",
    "    params = grid_result.cv_results_['params']\n",
    "    for mean, stdev, param in zip(means, stds, params):\n",
    "        print(\"%f (%f) with: %r\" % (mean, stdev, param))"
   ]
  },
  {
   "cell_type": "code",
   "execution_count": 14,
   "metadata": {},
   "outputs": [
    {
     "name": "stdout",
     "output_type": "stream",
     "text": [
      "Best: 0.832837 using {'max_depth': 16, 'n_estimators': 800}\n",
      "0.779388 (0.006674) with: {'max_depth': 4, 'n_estimators': 200}\n",
      "0.782735 (0.007561) with: {'max_depth': 4, 'n_estimators': 400}\n",
      "0.783249 (0.007458) with: {'max_depth': 4, 'n_estimators': 600}\n",
      "0.783844 (0.008355) with: {'max_depth': 4, 'n_estimators': 800}\n",
      "0.799945 (0.008123) with: {'max_depth': 8, 'n_estimators': 200}\n",
      "0.804778 (0.007770) with: {'max_depth': 8, 'n_estimators': 400}\n",
      "0.805350 (0.008884) with: {'max_depth': 8, 'n_estimators': 600}\n",
      "0.805731 (0.007818) with: {'max_depth': 8, 'n_estimators': 800}\n",
      "0.815799 (0.008312) with: {'max_depth': 12, 'n_estimators': 200}\n",
      "0.821043 (0.006710) with: {'max_depth': 12, 'n_estimators': 400}\n",
      "0.820412 (0.008178) with: {'max_depth': 12, 'n_estimators': 600}\n",
      "0.822805 (0.007790) with: {'max_depth': 12, 'n_estimators': 800}\n",
      "0.824525 (0.007524) with: {'max_depth': 16, 'n_estimators': 200}\n",
      "0.831391 (0.006990) with: {'max_depth': 16, 'n_estimators': 400}\n",
      "0.832656 (0.006855) with: {'max_depth': 16, 'n_estimators': 600}\n",
      "0.832837 (0.007408) with: {'max_depth': 16, 'n_estimators': 800}\n"
     ]
    }
   ],
   "source": [
    "summarize_cv_results(grid_search)"
   ]
  },
  {
   "cell_type": "code",
   "execution_count": 1,
   "metadata": {},
   "outputs": [
    {
     "ename": "NameError",
     "evalue": "name 'grid_search' is not defined",
     "output_type": "error",
     "traceback": [
      "\u001b[0;31m---------------------------------------------------------------------------\u001b[0m",
      "\u001b[0;31mNameError\u001b[0m                                 Traceback (most recent call last)",
      "\u001b[0;32m<ipython-input-1-f828a8e63185>\u001b[0m in \u001b[0;36m<module>\u001b[0;34m\u001b[0m\n\u001b[1;32m      1\u001b[0m \u001b[0;32mimport\u001b[0m \u001b[0mpickle\u001b[0m\u001b[0;34m\u001b[0m\u001b[0;34m\u001b[0m\u001b[0m\n\u001b[0;32m----> 2\u001b[0;31m \u001b[0mpickle\u001b[0m\u001b[0;34m.\u001b[0m\u001b[0mdump\u001b[0m\u001b[0;34m(\u001b[0m\u001b[0mgrid_search\u001b[0m\u001b[0;34m,\u001b[0m \u001b[0mopen\u001b[0m\u001b[0;34m(\u001b[0m\u001b[0;34m'rf_model.modelcv'\u001b[0m\u001b[0;34m,\u001b[0m \u001b[0;34m'wb'\u001b[0m\u001b[0;34m)\u001b[0m\u001b[0;34m)\u001b[0m\u001b[0;34m\u001b[0m\u001b[0;34m\u001b[0m\u001b[0m\n\u001b[0m",
      "\u001b[0;31mNameError\u001b[0m: name 'grid_search' is not defined"
     ]
    }
   ],
   "source": [
    "import pickle\n",
    "pickle.dump(grid_search, open('rf_model.modelcv', 'wb'))"
   ]
  },
  {
   "cell_type": "code",
   "execution_count": null,
   "metadata": {},
   "outputs": [],
   "source": []
  }
 ],
 "metadata": {
  "kernelspec": {
   "display_name": "Python 3",
   "language": "python",
   "name": "python3"
  },
  "language_info": {
   "codemirror_mode": {
    "name": "ipython",
    "version": 3
   },
   "file_extension": ".py",
   "mimetype": "text/x-python",
   "name": "python",
   "nbconvert_exporter": "python",
   "pygments_lexer": "ipython3",
   "version": "3.7.1"
  }
 },
 "nbformat": 4,
 "nbformat_minor": 2
}
