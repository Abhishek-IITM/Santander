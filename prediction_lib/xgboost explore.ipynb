{
 "cells": [
  {
   "cell_type": "code",
   "execution_count": 4,
   "metadata": {},
   "outputs": [],
   "source": [
    "import pandas as pd\n",
    "import numpy as np\n",
    "import os\n",
    "import matplotlib.pyplot as plt"
   ]
  },
  {
   "cell_type": "code",
   "execution_count": 5,
   "metadata": {},
   "outputs": [],
   "source": [
    "train_df = pd.read_csv('train.csv')"
   ]
  },
  {
   "cell_type": "code",
   "execution_count": 6,
   "metadata": {},
   "outputs": [
    {
     "data": {
      "text/html": [
       "<div>\n",
       "<style scoped>\n",
       "    .dataframe tbody tr th:only-of-type {\n",
       "        vertical-align: middle;\n",
       "    }\n",
       "\n",
       "    .dataframe tbody tr th {\n",
       "        vertical-align: top;\n",
       "    }\n",
       "\n",
       "    .dataframe thead th {\n",
       "        text-align: right;\n",
       "    }\n",
       "</style>\n",
       "<table border=\"1\" class=\"dataframe\">\n",
       "  <thead>\n",
       "    <tr style=\"text-align: right;\">\n",
       "      <th></th>\n",
       "      <th>variable</th>\n",
       "      <th>unique_count</th>\n",
       "    </tr>\n",
       "  </thead>\n",
       "  <tbody>\n",
       "    <tr>\n",
       "      <th>1</th>\n",
       "      <td>target</td>\n",
       "      <td>2</td>\n",
       "    </tr>\n",
       "    <tr>\n",
       "      <th>70</th>\n",
       "      <td>var_68</td>\n",
       "      <td>451</td>\n",
       "    </tr>\n",
       "    <tr>\n",
       "      <th>93</th>\n",
       "      <td>var_91</td>\n",
       "      <td>7962</td>\n",
       "    </tr>\n",
       "    <tr>\n",
       "      <th>110</th>\n",
       "      <td>var_108</td>\n",
       "      <td>8525</td>\n",
       "    </tr>\n",
       "    <tr>\n",
       "      <th>105</th>\n",
       "      <td>var_103</td>\n",
       "      <td>9376</td>\n",
       "    </tr>\n",
       "  </tbody>\n",
       "</table>\n",
       "</div>"
      ],
      "text/plain": [
       "    variable  unique_count\n",
       "1     target             2\n",
       "70    var_68           451\n",
       "93    var_91          7962\n",
       "110  var_108          8525\n",
       "105  var_103          9376"
      ]
     },
     "execution_count": 6,
     "metadata": {},
     "output_type": "execute_result"
    }
   ],
   "source": [
    "# var_count = pd.DataFrame(train_df.apply(pd.Series.nunique, axis=0))\n",
    "# var_count.reset_index(inplace=True)\n",
    "# var_count.columns = ['variable', 'unique_count']\n",
    "# var_count.sort_values('unique_count', ascending=True, inplace=True)\n",
    "# var_count.head()"
   ]
  },
  {
   "cell_type": "code",
   "execution_count": 7,
   "metadata": {},
   "outputs": [
    {
     "data": {
      "text/plain": [
       "count    200000.000000\n",
       "mean          5.018893\n",
       "std           0.007186\n",
       "min           4.993800\n",
       "25%           5.014000\n",
       "50%           5.019100\n",
       "75%           5.024100\n",
       "max           5.046900\n",
       "Name: var_68, dtype: float64"
      ]
     },
     "execution_count": 7,
     "metadata": {},
     "output_type": "execute_result"
    }
   ],
   "source": [
    "# train_df.var_68.unique()\n",
    "# train_df.var_68.describe()"
   ]
  },
  {
   "cell_type": "code",
   "execution_count": 21,
   "metadata": {},
   "outputs": [],
   "source": [
    "import sklearn\n",
    "from sklearn.model_selection import train_test_split, GridSearchCV, StratifiedKFold\n",
    "from sklearn.linear_model import Lasso\n",
    "from sklearn.metrics import confusion_matrix\n",
    "from sklearn.utils.multiclass import unique_labels\n",
    "from xgboost import XGBClassifier\n",
    "import xgboost as xgb"
   ]
  },
  {
   "cell_type": "code",
   "execution_count": 9,
   "metadata": {},
   "outputs": [
    {
     "name": "stdout",
     "output_type": "stream",
     "text": [
      "(200000, 200) (200000,)\n",
      "(140000, 200) (60000, 200) (140000,) (60000,)\n"
     ]
    }
   ],
   "source": [
    "train_x = train_df.drop(columns=['ID_code', 'target'])\n",
    "train_y = train_df['target']\n",
    "print(train_x.shape, train_y.shape)\n",
    "x_train, x_test, y_train, y_test = train_test_split(train_x, train_y, test_size = 0.3)\n",
    "print(x_train.shape, x_test.shape, y_train.shape, y_test.shape)"
   ]
  },
  {
   "cell_type": "code",
   "execution_count": 10,
   "metadata": {},
   "outputs": [],
   "source": [
    "# model1 = Lasso(alpha=0.1)\n",
    "# model1.fit(x_train, y_train)\n",
    "# y_predict = model1.predict(x_test)\n",
    "# y_predict[0:5]\n",
    "# print(max(y_predict), min(y_predict))\n",
    "# y_predict2 = y_predict\n",
    "# y_predict2[y_predict2>0.5] = 1\n",
    "# y_predict2[y_predict2<=0.5] = 0\n",
    "# print(confusion_matrix(y_predict2, y_test))"
   ]
  },
  {
   "cell_type": "code",
   "execution_count": 11,
   "metadata": {},
   "outputs": [],
   "source": [
    "class_names = train_df.target.unique()\n",
    "\n",
    "def plot_confusion_matrix(y_true, y_pred, classes,\n",
    "                          normalize=False,\n",
    "                          title=None,\n",
    "                          cmap=plt.cm.Blues):\n",
    "    \"\"\"\n",
    "    This function prints and plots the confusion matrix.\n",
    "    Normalization can be applied by setting `normalize=True`.\n",
    "    \"\"\"\n",
    "    if not title:\n",
    "        if normalize:\n",
    "            title = 'Normalized confusion matrix'\n",
    "        else:\n",
    "            title = 'Confusion matrix, without normalization'\n",
    "\n",
    "    # Compute confusion matrix\n",
    "    cm = confusion_matrix(y_true, y_pred)\n",
    "    # Only use the labels that appear in the data\n",
    "    classes = classes[unique_labels(y_true, y_pred)]\n",
    "    if normalize:\n",
    "        cm = cm.astype('float') / cm.sum(axis=1)[:, np.newaxis]\n",
    "        print(\"Normalized confusion matrix\")\n",
    "    else:\n",
    "        print('Confusion matrix, without normalization')\n",
    "\n",
    "    print(cm)\n",
    "\n",
    "    fig, ax = plt.subplots()\n",
    "    im = ax.imshow(cm, interpolation='nearest', cmap=cmap)\n",
    "    ax.figure.colorbar(im, ax=ax)\n",
    "    # We want to show all ticks...\n",
    "    ax.set(xticks=np.arange(cm.shape[1]),\n",
    "           yticks=np.arange(cm.shape[0]),\n",
    "           # ... and label them with the respective list entries\n",
    "           xticklabels=classes, yticklabels=classes,\n",
    "           title=title,\n",
    "           ylabel='True label',\n",
    "           xlabel='Predicted label')\n",
    "\n",
    "    # Rotate the tick labels and set their alignment.\n",
    "    plt.setp(ax.get_xticklabels(), rotation=45, ha=\"right\",\n",
    "             rotation_mode=\"anchor\")\n",
    "\n",
    "    # Loop over data dimensions and create text annotations.\n",
    "    fmt = '.2f' if normalize else 'd'\n",
    "    thresh = cm.max() / 2.\n",
    "    for i in range(cm.shape[0]):\n",
    "        for j in range(cm.shape[1]):\n",
    "            ax.text(j, i, format(cm[i, j], fmt),\n",
    "                    ha=\"center\", va=\"center\",\n",
    "                    color=\"white\" if cm[i, j] > thresh else \"black\")\n",
    "    fig.tight_layout()\n",
    "    return ax\n",
    "\n",
    "\n",
    "np.set_printoptions(precision=2)\n",
    "\n",
    "# # Plot non-normalized confusion matrix\n",
    "# plot_confusion_matrix(y_test, y_predict2, classes=class_names,\n",
    "#                       title='Confusion matrix, without normalization')\n",
    "\n",
    "# # Plot normalized confusion matrix\n",
    "# plot_confusion_matrix(y_test, y_predict2, classes=class_names, normalize=True,\n",
    "#                       title='Normalized confusion matrix')\n",
    "\n",
    "# plt.show()"
   ]
  },
  {
   "cell_type": "code",
   "execution_count": 12,
   "metadata": {},
   "outputs": [],
   "source": [
    "# # fit model no training data\n",
    "# xgb_model = XGBClassifier(silent=False)\n",
    "# xgb_model.fit(x_train, y_train)\n",
    "# y_predict = xgb_model.predict(x_test)\n",
    "# plot_confusion_matrix(y_test, y_predict, classes=class_names,\n",
    "#                       title='Confusion matrix, without normalization')\n",
    "\n",
    "# plot_confusion_matrix(y_test, y_predict, classes=class_names, normalize=True,\n",
    "#                       title='Normalized confusion matrix')"
   ]
  },
  {
   "cell_type": "code",
   "execution_count": 30,
   "metadata": {
    "collapsed": true
   },
   "outputs": [
    {
     "name": "stdout",
     "output_type": "stream",
     "text": [
      "(98000, 200) (42000, 200) (98000,) (42000,)\n"
     ]
    },
    {
     "name": "stderr",
     "output_type": "stream",
     "text": [
      "/Users/abhishek/My Project/santander-transaction/venv/lib/python3.7/site-packages/xgboost/core.py:587: FutureWarning: Series.base is deprecated and will be removed in a future version\n",
      "  if getattr(data, 'base', None) is not None and \\\n"
     ]
    },
    {
     "name": "stdout",
     "output_type": "stream",
     "text": [
      "Fitting 10 folds for each of 16 candidates, totalling 160 fits\n"
     ]
    },
    {
     "name": "stderr",
     "output_type": "stream",
     "text": [
      "[Parallel(n_jobs=-1)]: Using backend LokyBackend with 8 concurrent workers.\n",
      "[Parallel(n_jobs=-1)]: Done   1 tasks      | elapsed:  4.3min\n",
      "[Parallel(n_jobs=-1)]: Done   2 tasks      | elapsed:  4.4min\n",
      "[Parallel(n_jobs=-1)]: Done   3 tasks      | elapsed:  4.4min\n",
      "[Parallel(n_jobs=-1)]: Done   4 tasks      | elapsed:  4.4min\n",
      "[Parallel(n_jobs=-1)]: Done   5 tasks      | elapsed:  4.4min\n",
      "[Parallel(n_jobs=-1)]: Done   6 tasks      | elapsed:  4.4min\n",
      "[Parallel(n_jobs=-1)]: Done   7 tasks      | elapsed:  4.4min\n",
      "[Parallel(n_jobs=-1)]: Done   8 tasks      | elapsed:  4.4min\n",
      "[Parallel(n_jobs=-1)]: Done   9 tasks      | elapsed:  9.0min\n",
      "[Parallel(n_jobs=-1)]: Done  10 tasks      | elapsed:  9.0min\n",
      "[Parallel(n_jobs=-1)]: Done  11 tasks      | elapsed:  9.0min\n",
      "[Parallel(n_jobs=-1)]: Done  12 tasks      | elapsed:  9.0min\n",
      "[Parallel(n_jobs=-1)]: Done  13 tasks      | elapsed:  9.0min\n",
      "[Parallel(n_jobs=-1)]: Done  14 tasks      | elapsed:  9.1min\n",
      "[Parallel(n_jobs=-1)]: Done  15 tasks      | elapsed:  9.1min\n",
      "[Parallel(n_jobs=-1)]: Done  16 tasks      | elapsed:  9.1min\n",
      "[Parallel(n_jobs=-1)]: Done  17 tasks      | elapsed: 13.5min\n",
      "[Parallel(n_jobs=-1)]: Done  18 tasks      | elapsed: 13.6min\n",
      "[Parallel(n_jobs=-1)]: Done  19 tasks      | elapsed: 13.6min\n",
      "[Parallel(n_jobs=-1)]: Done  20 tasks      | elapsed: 13.6min\n",
      "[Parallel(n_jobs=-1)]: Done  21 tasks      | elapsed: 13.6min\n",
      "[Parallel(n_jobs=-1)]: Done  22 tasks      | elapsed: 13.6min\n",
      "[Parallel(n_jobs=-1)]: Done  23 tasks      | elapsed: 13.6min\n",
      "[Parallel(n_jobs=-1)]: Done  24 tasks      | elapsed: 13.6min\n",
      "[Parallel(n_jobs=-1)]: Done  25 tasks      | elapsed: 17.8min\n",
      "[Parallel(n_jobs=-1)]: Done  26 tasks      | elapsed: 17.8min\n",
      "[Parallel(n_jobs=-1)]: Done  27 tasks      | elapsed: 17.8min\n",
      "[Parallel(n_jobs=-1)]: Done  28 tasks      | elapsed: 17.8min\n",
      "[Parallel(n_jobs=-1)]: Done  29 tasks      | elapsed: 17.8min\n",
      "[Parallel(n_jobs=-1)]: Done  30 tasks      | elapsed: 17.8min\n",
      "[Parallel(n_jobs=-1)]: Done  31 tasks      | elapsed: 17.9min\n",
      "[Parallel(n_jobs=-1)]: Done  32 tasks      | elapsed: 17.9min\n",
      "[Parallel(n_jobs=-1)]: Done  33 tasks      | elapsed: 22.0min\n",
      "[Parallel(n_jobs=-1)]: Done  34 tasks      | elapsed: 22.1min\n",
      "[Parallel(n_jobs=-1)]: Done  35 tasks      | elapsed: 22.1min\n",
      "[Parallel(n_jobs=-1)]: Done  36 tasks      | elapsed: 22.1min\n",
      "[Parallel(n_jobs=-1)]: Done  37 tasks      | elapsed: 22.1min\n",
      "[Parallel(n_jobs=-1)]: Done  38 tasks      | elapsed: 22.1min\n",
      "[Parallel(n_jobs=-1)]: Done  39 tasks      | elapsed: 22.1min\n",
      "[Parallel(n_jobs=-1)]: Done  40 tasks      | elapsed: 22.1min\n",
      "[Parallel(n_jobs=-1)]: Done  41 tasks      | elapsed: 31.3min\n",
      "[Parallel(n_jobs=-1)]: Done  42 tasks      | elapsed: 31.4min\n",
      "[Parallel(n_jobs=-1)]: Done  43 tasks      | elapsed: 31.4min\n",
      "[Parallel(n_jobs=-1)]: Done  44 tasks      | elapsed: 31.4min\n",
      "[Parallel(n_jobs=-1)]: Done  45 tasks      | elapsed: 31.4min\n",
      "[Parallel(n_jobs=-1)]: Done  46 tasks      | elapsed: 31.4min\n",
      "[Parallel(n_jobs=-1)]: Done  47 tasks      | elapsed: 31.4min\n",
      "[Parallel(n_jobs=-1)]: Done  48 tasks      | elapsed: 31.4min\n",
      "[Parallel(n_jobs=-1)]: Done  49 tasks      | elapsed: 40.7min\n",
      "[Parallel(n_jobs=-1)]: Done  50 tasks      | elapsed: 40.8min\n",
      "[Parallel(n_jobs=-1)]: Done  51 tasks      | elapsed: 40.8min\n",
      "[Parallel(n_jobs=-1)]: Done  52 tasks      | elapsed: 40.8min\n",
      "[Parallel(n_jobs=-1)]: Done  53 tasks      | elapsed: 40.8min\n",
      "[Parallel(n_jobs=-1)]: Done  54 tasks      | elapsed: 40.9min\n",
      "[Parallel(n_jobs=-1)]: Done  55 tasks      | elapsed: 40.9min\n",
      "[Parallel(n_jobs=-1)]: Done  56 tasks      | elapsed: 41.0min\n",
      "[Parallel(n_jobs=-1)]: Done  57 tasks      | elapsed: 50.5min\n",
      "[Parallel(n_jobs=-1)]: Done  58 tasks      | elapsed: 50.5min\n",
      "[Parallel(n_jobs=-1)]: Done  59 tasks      | elapsed: 50.5min\n",
      "[Parallel(n_jobs=-1)]: Done  60 tasks      | elapsed: 50.6min\n",
      "[Parallel(n_jobs=-1)]: Done  61 tasks      | elapsed: 50.6min\n",
      "[Parallel(n_jobs=-1)]: Done  62 tasks      | elapsed: 50.6min\n",
      "[Parallel(n_jobs=-1)]: Done  63 tasks      | elapsed: 50.6min\n",
      "[Parallel(n_jobs=-1)]: Done  64 tasks      | elapsed: 50.6min\n",
      "[Parallel(n_jobs=-1)]: Done  65 tasks      | elapsed: 60.7min\n",
      "[Parallel(n_jobs=-1)]: Done  66 tasks      | elapsed: 60.8min\n",
      "[Parallel(n_jobs=-1)]: Done  67 tasks      | elapsed: 60.8min\n",
      "[Parallel(n_jobs=-1)]: Done  68 tasks      | elapsed: 60.8min\n",
      "[Parallel(n_jobs=-1)]: Done  69 tasks      | elapsed: 60.9min\n",
      "[Parallel(n_jobs=-1)]: Done  70 tasks      | elapsed: 60.9min\n",
      "[Parallel(n_jobs=-1)]: Done  71 tasks      | elapsed: 60.9min\n",
      "[Parallel(n_jobs=-1)]: Done  72 tasks      | elapsed: 60.9min\n",
      "[Parallel(n_jobs=-1)]: Done  73 tasks      | elapsed: 71.1min\n",
      "[Parallel(n_jobs=-1)]: Done  74 tasks      | elapsed: 71.1min\n",
      "[Parallel(n_jobs=-1)]: Done  75 tasks      | elapsed: 71.2min\n",
      "[Parallel(n_jobs=-1)]: Done  76 tasks      | elapsed: 71.3min\n",
      "[Parallel(n_jobs=-1)]: Done  77 tasks      | elapsed: 71.3min\n",
      "[Parallel(n_jobs=-1)]: Done  78 tasks      | elapsed: 71.3min\n",
      "[Parallel(n_jobs=-1)]: Done  79 tasks      | elapsed: 71.3min\n",
      "[Parallel(n_jobs=-1)]: Done  80 tasks      | elapsed: 71.3min\n",
      "[Parallel(n_jobs=-1)]: Done  81 tasks      | elapsed: 86.7min\n",
      "[Parallel(n_jobs=-1)]: Done  82 tasks      | elapsed: 86.9min\n",
      "[Parallel(n_jobs=-1)]: Done  83 tasks      | elapsed: 86.9min\n",
      "[Parallel(n_jobs=-1)]: Done  84 tasks      | elapsed: 86.9min\n",
      "[Parallel(n_jobs=-1)]: Done  85 tasks      | elapsed: 87.0min\n",
      "[Parallel(n_jobs=-1)]: Done  86 tasks      | elapsed: 87.0min\n",
      "[Parallel(n_jobs=-1)]: Done  87 tasks      | elapsed: 87.0min\n",
      "[Parallel(n_jobs=-1)]: Done  88 tasks      | elapsed: 87.0min\n",
      "[Parallel(n_jobs=-1)]: Done  89 tasks      | elapsed: 102.5min\n",
      "[Parallel(n_jobs=-1)]: Done  90 tasks      | elapsed: 102.7min\n",
      "[Parallel(n_jobs=-1)]: Done  91 tasks      | elapsed: 102.8min\n",
      "[Parallel(n_jobs=-1)]: Done  92 tasks      | elapsed: 102.8min\n",
      "[Parallel(n_jobs=-1)]: Done  93 tasks      | elapsed: 102.8min\n",
      "[Parallel(n_jobs=-1)]: Done  94 tasks      | elapsed: 102.8min\n",
      "[Parallel(n_jobs=-1)]: Done  95 tasks      | elapsed: 102.9min\n",
      "[Parallel(n_jobs=-1)]: Done  96 tasks      | elapsed: 102.9min\n",
      "[Parallel(n_jobs=-1)]: Done  97 tasks      | elapsed: 118.3min\n",
      "[Parallel(n_jobs=-1)]: Done  98 tasks      | elapsed: 118.6min\n",
      "[Parallel(n_jobs=-1)]: Done  99 tasks      | elapsed: 118.6min\n",
      "[Parallel(n_jobs=-1)]: Done 100 tasks      | elapsed: 118.6min\n",
      "[Parallel(n_jobs=-1)]: Done 101 tasks      | elapsed: 118.7min\n",
      "[Parallel(n_jobs=-1)]: Done 102 tasks      | elapsed: 118.7min\n",
      "[Parallel(n_jobs=-1)]: Done 103 tasks      | elapsed: 118.7min\n",
      "[Parallel(n_jobs=-1)]: Done 104 tasks      | elapsed: 118.7min\n",
      "[Parallel(n_jobs=-1)]: Done 105 tasks      | elapsed: 132.0min\n",
      "[Parallel(n_jobs=-1)]: Done 106 tasks      | elapsed: 132.3min\n",
      "[Parallel(n_jobs=-1)]: Done 107 tasks      | elapsed: 132.3min\n",
      "[Parallel(n_jobs=-1)]: Done 108 tasks      | elapsed: 132.4min\n",
      "[Parallel(n_jobs=-1)]: Done 109 tasks      | elapsed: 132.4min\n",
      "[Parallel(n_jobs=-1)]: Done 110 tasks      | elapsed: 132.4min\n",
      "[Parallel(n_jobs=-1)]: Done 111 tasks      | elapsed: 132.4min\n",
      "[Parallel(n_jobs=-1)]: Done 112 tasks      | elapsed: 132.5min\n",
      "[Parallel(n_jobs=-1)]: Done 113 tasks      | elapsed: 146.0min\n",
      "[Parallel(n_jobs=-1)]: Done 114 tasks      | elapsed: 146.2min\n",
      "[Parallel(n_jobs=-1)]: Done 115 tasks      | elapsed: 146.3min\n",
      "[Parallel(n_jobs=-1)]: Done 116 tasks      | elapsed: 146.3min\n",
      "[Parallel(n_jobs=-1)]: Done 117 tasks      | elapsed: 146.5min\n",
      "[Parallel(n_jobs=-1)]: Done 118 tasks      | elapsed: 146.5min\n",
      "[Parallel(n_jobs=-1)]: Done 119 tasks      | elapsed: 146.5min\n",
      "[Parallel(n_jobs=-1)]: Done 120 tasks      | elapsed: 146.6min\n",
      "[Parallel(n_jobs=-1)]: Done 121 tasks      | elapsed: 165.5min\n",
      "[Parallel(n_jobs=-1)]: Done 122 tasks      | elapsed: 165.7min\n",
      "[Parallel(n_jobs=-1)]: Done 123 tasks      | elapsed: 165.8min\n",
      "[Parallel(n_jobs=-1)]: Done 124 tasks      | elapsed: 165.9min\n",
      "[Parallel(n_jobs=-1)]: Done 125 tasks      | elapsed: 165.9min\n",
      "[Parallel(n_jobs=-1)]: Done 126 tasks      | elapsed: 166.0min\n",
      "[Parallel(n_jobs=-1)]: Done 127 tasks      | elapsed: 166.0min\n",
      "[Parallel(n_jobs=-1)]: Done 128 tasks      | elapsed: 166.1min\n",
      "[Parallel(n_jobs=-1)]: Done 129 tasks      | elapsed: 185.0min\n",
      "[Parallel(n_jobs=-1)]: Done 130 tasks      | elapsed: 185.2min\n",
      "[Parallel(n_jobs=-1)]: Done 131 tasks      | elapsed: 185.3min\n"
     ]
    },
    {
     "name": "stderr",
     "output_type": "stream",
     "text": [
      "[Parallel(n_jobs=-1)]: Done 132 tasks      | elapsed: 185.4min\n",
      "[Parallel(n_jobs=-1)]: Done 133 tasks      | elapsed: 185.5min\n",
      "[Parallel(n_jobs=-1)]: Done 134 tasks      | elapsed: 185.5min\n",
      "[Parallel(n_jobs=-1)]: Done 135 tasks      | elapsed: 185.5min\n",
      "[Parallel(n_jobs=-1)]: Done 136 tasks      | elapsed: 185.6min\n",
      "[Parallel(n_jobs=-1)]: Done 137 tasks      | elapsed: 204.5min\n",
      "[Parallel(n_jobs=-1)]: Done 138 tasks      | elapsed: 204.8min\n",
      "[Parallel(n_jobs=-1)]: Done 139 tasks      | elapsed: 204.8min\n",
      "[Parallel(n_jobs=-1)]: Done 140 tasks      | elapsed: 204.9min\n",
      "[Parallel(n_jobs=-1)]: Done 141 tasks      | elapsed: 204.9min\n",
      "[Parallel(n_jobs=-1)]: Done 142 tasks      | elapsed: 205.0min\n",
      "[Parallel(n_jobs=-1)]: Done 143 tasks      | elapsed: 205.1min\n",
      "[Parallel(n_jobs=-1)]: Done 144 tasks      | elapsed: 205.1min\n",
      "[Parallel(n_jobs=-1)]: Done 145 tasks      | elapsed: 223.8min\n",
      "[Parallel(n_jobs=-1)]: Done 154 out of 160 | elapsed: 243.5min remaining:  9.5min\n",
      "[Parallel(n_jobs=-1)]: Done 160 out of 160 | elapsed: 243.7min finished\n"
     ]
    }
   ],
   "source": [
    "x_train_with_eval, x_eval, y_train_with_eval, y_eval = train_test_split(x_train, y_train, \n",
    "                                                                        test_size = 0.3)\n",
    "print(x_train_with_eval.shape, x_eval.shape, y_train_with_eval.shape, y_eval.shape)\n",
    "\n",
    "dtrain = xgb.DMatrix(x_train_with_eval, label=y_train_with_eval)\n",
    "deval = xgb.DMatrix(x_eval, label=y_eval)\n",
    "\n",
    "# param = {'max_depth': 2, 'eta': 0.1, 'verbosity': 2, 'objective': 'binary:logistic', \n",
    "#          'eval_metric': 'auc', 'subsample':0.8, 'alpha': 0.2, 'early_stopping_rounds': 20}\n",
    "\n",
    "max_depth = np.arange(2,10,2)\n",
    "num_round = np.arange(2000,10000,2000)\n",
    "kfold = StratifiedKFold(n_splits=10, shuffle=True, random_state=100)\n",
    "\n",
    "param = {'eta': 0.1, 'verbosity': 2, 'objective': 'binary:logistic', 'eval_metric': 'auc', \n",
    "         'subsample':0.8, 'alpha': 0.2, 'early_stopping_rounds': 20}\n",
    "\n",
    "param_grid = dict()\n",
    "param_grid['max_depth'] = max_depth\n",
    "param_grid['num_round'] = num_round\n",
    "\n",
    "xgb_grid_search = XGBClassifier(param=param)\n",
    "grid_search = GridSearchCV(xgb_grid_search, param_grid=param_grid, n_jobs=-1, cv=kfold, verbose=20, \n",
    "                           scoring='roc_auc')\n",
    "grid_result = grid_search.fit(x_train, y_train)\n",
    "# evallist = [(deval, 'eval'), (dtrain, 'train')]\n",
    "\n",
    "# # xgb_model_with_params = xgb.train(param, dtrain, num_round, evallist)\n",
    "# xgb_model_with_params = xgb.cv(param, dtrain, num_boost_round=num_round, nfold=4, \n",
    "#                                verbose_eval=True)"
   ]
  },
  {
   "cell_type": "code",
   "execution_count": 34,
   "metadata": {
    "collapsed": true
   },
   "outputs": [
    {
     "name": "stdout",
     "output_type": "stream",
     "text": [
      "Best: 0.851464 using {'max_depth': 6, 'num_round': 2000}\n",
      "0.813379 (0.005716) with: {'max_depth': 2, 'num_round': 2000}\n",
      "0.813379 (0.005716) with: {'max_depth': 2, 'num_round': 4000}\n",
      "0.813379 (0.005716) with: {'max_depth': 2, 'num_round': 6000}\n",
      "0.813379 (0.005716) with: {'max_depth': 2, 'num_round': 8000}\n",
      "0.841618 (0.005784) with: {'max_depth': 4, 'num_round': 2000}\n",
      "0.841618 (0.005784) with: {'max_depth': 4, 'num_round': 4000}\n",
      "0.841618 (0.005784) with: {'max_depth': 4, 'num_round': 6000}\n",
      "0.841618 (0.005784) with: {'max_depth': 4, 'num_round': 8000}\n",
      "0.851464 (0.003896) with: {'max_depth': 6, 'num_round': 2000}\n",
      "0.851464 (0.003896) with: {'max_depth': 6, 'num_round': 4000}\n",
      "0.851464 (0.003896) with: {'max_depth': 6, 'num_round': 6000}\n",
      "0.851464 (0.003896) with: {'max_depth': 6, 'num_round': 8000}\n",
      "0.851197 (0.005168) with: {'max_depth': 8, 'num_round': 2000}\n",
      "0.851197 (0.005168) with: {'max_depth': 8, 'num_round': 4000}\n",
      "0.851197 (0.005168) with: {'max_depth': 8, 'num_round': 6000}\n",
      "0.851197 (0.005168) with: {'max_depth': 8, 'num_round': 8000}\n"
     ]
    }
   ],
   "source": [
    "# summarize results\n",
    "print(\"Best: %f using %s\" % (grid_result.best_score_, grid_result.best_params_))\n",
    "means = grid_result.cv_results_['mean_test_score']\n",
    "stds = grid_result.cv_results_['std_test_score']\n",
    "params = grid_result.cv_results_['params']\n",
    "for mean, stdev, param in zip(means, stds, params):\n",
    "\tprint(\"%f (%f) with: %r\" % (mean, stdev, param))"
   ]
  },
  {
   "cell_type": "code",
   "execution_count": null,
   "metadata": {},
   "outputs": [],
   "source": [
    "def summarize_cv_results(grid_result):\n",
    "    # summarize results\n",
    "    print(\"Best: %f using %s\" % (grid_result.best_score_, grid_result.best_params_))\n",
    "    means = grid_result.cv_results_['mean_test_score']\n",
    "    stds = grid_result.cv_results_['std_test_score']\n",
    "    params = grid_result.cv_results_['params']\n",
    "    for mean, stdev, param in zip(means, stds, params):\n",
    "        print(\"%f (%f) with: %r\" % (mean, stdev, param))"
   ]
  },
  {
   "cell_type": "code",
   "execution_count": 41,
   "metadata": {},
   "outputs": [],
   "source": [
    "def perform_grid_search(model, x_train, y_train, param_grid, kfold_splits=10, num_jobs = -1, \n",
    "                        verbose_num = 20, scoring_method = 'roc_auc'):\n",
    "    \n",
    "    kfold = StratifiedKFold(n_splits=kfold_splits, shuffle=True, random_state=100)\n",
    "    grid_search = GridSearchCV(model, param_grid, n_jobs=num_jobs, cv=kfold, \n",
    "                               verbose=verbose_num, scoring=scoring_method)\n",
    "    grid_result = grid_search.fit(x_train, y_train)\n",
    "    return grid_result"
   ]
  },
  {
   "cell_type": "code",
   "execution_count": 35,
   "metadata": {
    "collapsed": true
   },
   "outputs": [
    {
     "name": "stdout",
     "output_type": "stream",
     "text": [
      "Fitting 10 folds for each of 21 candidates, totalling 210 fits\n"
     ]
    },
    {
     "name": "stderr",
     "output_type": "stream",
     "text": [
      "[Parallel(n_jobs=-1)]: Using backend LokyBackend with 8 concurrent workers.\n",
      "[Parallel(n_jobs=-1)]: Done   1 tasks      | elapsed: 10.8min\n",
      "[Parallel(n_jobs=-1)]: Done   2 tasks      | elapsed: 10.8min\n",
      "[Parallel(n_jobs=-1)]: Done   3 tasks      | elapsed: 10.8min\n",
      "[Parallel(n_jobs=-1)]: Done   4 tasks      | elapsed: 10.8min\n",
      "[Parallel(n_jobs=-1)]: Done   5 tasks      | elapsed: 10.9min\n",
      "[Parallel(n_jobs=-1)]: Done   6 tasks      | elapsed: 10.9min\n",
      "[Parallel(n_jobs=-1)]: Done   7 tasks      | elapsed: 10.9min\n",
      "[Parallel(n_jobs=-1)]: Done   8 tasks      | elapsed: 10.9min\n",
      "[Parallel(n_jobs=-1)]: Done   9 tasks      | elapsed: 22.0min\n",
      "[Parallel(n_jobs=-1)]: Done  10 tasks      | elapsed: 22.1min\n",
      "[Parallel(n_jobs=-1)]: Done  11 tasks      | elapsed: 22.1min\n",
      "[Parallel(n_jobs=-1)]: Done  12 tasks      | elapsed: 22.1min\n",
      "[Parallel(n_jobs=-1)]: Done  13 tasks      | elapsed: 22.1min\n",
      "[Parallel(n_jobs=-1)]: Done  14 tasks      | elapsed: 22.2min\n",
      "[Parallel(n_jobs=-1)]: Done  15 tasks      | elapsed: 22.2min\n",
      "[Parallel(n_jobs=-1)]: Done  16 tasks      | elapsed: 22.2min\n",
      "[Parallel(n_jobs=-1)]: Done  17 tasks      | elapsed: 33.7min\n",
      "[Parallel(n_jobs=-1)]: Done  18 tasks      | elapsed: 33.7min\n",
      "[Parallel(n_jobs=-1)]: Done  19 tasks      | elapsed: 33.7min\n",
      "[Parallel(n_jobs=-1)]: Done  20 tasks      | elapsed: 33.7min\n",
      "[Parallel(n_jobs=-1)]: Done  21 tasks      | elapsed: 33.7min\n",
      "[Parallel(n_jobs=-1)]: Done  22 tasks      | elapsed: 33.7min\n",
      "[Parallel(n_jobs=-1)]: Done  23 tasks      | elapsed: 33.8min\n",
      "[Parallel(n_jobs=-1)]: Done  24 tasks      | elapsed: 33.8min\n",
      "[Parallel(n_jobs=-1)]: Done  25 tasks      | elapsed: 45.2min\n",
      "[Parallel(n_jobs=-1)]: Done  26 tasks      | elapsed: 45.2min\n",
      "[Parallel(n_jobs=-1)]: Done  27 tasks      | elapsed: 45.2min\n",
      "[Parallel(n_jobs=-1)]: Done  28 tasks      | elapsed: 45.3min\n",
      "[Parallel(n_jobs=-1)]: Done  29 tasks      | elapsed: 45.3min\n",
      "[Parallel(n_jobs=-1)]: Done  30 tasks      | elapsed: 45.3min\n",
      "[Parallel(n_jobs=-1)]: Done  31 tasks      | elapsed: 45.3min\n",
      "[Parallel(n_jobs=-1)]: Done  32 tasks      | elapsed: 45.4min\n",
      "[Parallel(n_jobs=-1)]: Done  33 tasks      | elapsed: 57.1min\n",
      "[Parallel(n_jobs=-1)]: Done  34 tasks      | elapsed: 57.2min\n",
      "[Parallel(n_jobs=-1)]: Done  35 tasks      | elapsed: 57.2min\n",
      "[Parallel(n_jobs=-1)]: Done  36 tasks      | elapsed: 57.2min\n",
      "[Parallel(n_jobs=-1)]: Done  37 tasks      | elapsed: 57.2min\n",
      "[Parallel(n_jobs=-1)]: Done  38 tasks      | elapsed: 57.3min\n",
      "[Parallel(n_jobs=-1)]: Done  39 tasks      | elapsed: 57.3min\n",
      "[Parallel(n_jobs=-1)]: Done  40 tasks      | elapsed: 57.3min\n",
      "[Parallel(n_jobs=-1)]: Done  41 tasks      | elapsed: 68.3min\n",
      "[Parallel(n_jobs=-1)]: Done  42 tasks      | elapsed: 68.4min\n",
      "[Parallel(n_jobs=-1)]: Done  43 tasks      | elapsed: 68.5min\n",
      "[Parallel(n_jobs=-1)]: Done  44 tasks      | elapsed: 68.5min\n",
      "[Parallel(n_jobs=-1)]: Done  45 tasks      | elapsed: 68.5min\n",
      "[Parallel(n_jobs=-1)]: Done  46 tasks      | elapsed: 68.6min\n",
      "[Parallel(n_jobs=-1)]: Done  47 tasks      | elapsed: 68.6min\n",
      "[Parallel(n_jobs=-1)]: Done  48 tasks      | elapsed: 68.6min\n",
      "[Parallel(n_jobs=-1)]: Done  49 tasks      | elapsed: 79.6min\n",
      "[Parallel(n_jobs=-1)]: Done  50 tasks      | elapsed: 79.7min\n",
      "[Parallel(n_jobs=-1)]: Done  51 tasks      | elapsed: 79.7min\n",
      "[Parallel(n_jobs=-1)]: Done  52 tasks      | elapsed: 79.8min\n",
      "[Parallel(n_jobs=-1)]: Done  53 tasks      | elapsed: 79.8min\n",
      "[Parallel(n_jobs=-1)]: Done  54 tasks      | elapsed: 79.8min\n",
      "[Parallel(n_jobs=-1)]: Done  55 tasks      | elapsed: 79.9min\n",
      "[Parallel(n_jobs=-1)]: Done  56 tasks      | elapsed: 79.9min\n",
      "[Parallel(n_jobs=-1)]: Done  57 tasks      | elapsed: 90.7min\n",
      "[Parallel(n_jobs=-1)]: Done  58 tasks      | elapsed: 90.8min\n",
      "[Parallel(n_jobs=-1)]: Done  59 tasks      | elapsed: 90.9min\n",
      "[Parallel(n_jobs=-1)]: Done  60 tasks      | elapsed: 90.9min\n",
      "[Parallel(n_jobs=-1)]: Done  61 tasks      | elapsed: 91.0min\n",
      "[Parallel(n_jobs=-1)]: Done  62 tasks      | elapsed: 91.0min\n",
      "[Parallel(n_jobs=-1)]: Done  63 tasks      | elapsed: 91.0min\n",
      "[Parallel(n_jobs=-1)]: Done  64 tasks      | elapsed: 91.1min\n",
      "[Parallel(n_jobs=-1)]: Done  65 tasks      | elapsed: 102.2min\n",
      "[Parallel(n_jobs=-1)]: Done  66 tasks      | elapsed: 102.2min\n",
      "[Parallel(n_jobs=-1)]: Done  67 tasks      | elapsed: 102.3min\n",
      "[Parallel(n_jobs=-1)]: Done  68 tasks      | elapsed: 102.3min\n",
      "[Parallel(n_jobs=-1)]: Done  69 tasks      | elapsed: 102.3min\n",
      "[Parallel(n_jobs=-1)]: Done  70 tasks      | elapsed: 102.4min\n",
      "[Parallel(n_jobs=-1)]: Done  71 tasks      | elapsed: 104.7min\n",
      "[Parallel(n_jobs=-1)]: Done  72 tasks      | elapsed: 104.9min\n",
      "[Parallel(n_jobs=-1)]: Done  73 tasks      | elapsed: 115.4min\n",
      "[Parallel(n_jobs=-1)]: Done  74 tasks      | elapsed: 115.6min\n",
      "[Parallel(n_jobs=-1)]: Done  75 tasks      | elapsed: 115.6min\n",
      "[Parallel(n_jobs=-1)]: Done  76 tasks      | elapsed: 115.7min\n",
      "[Parallel(n_jobs=-1)]: Done  77 tasks      | elapsed: 115.7min\n",
      "[Parallel(n_jobs=-1)]: Done  78 tasks      | elapsed: 115.7min\n",
      "[Parallel(n_jobs=-1)]: Done  79 tasks      | elapsed: 118.2min\n",
      "[Parallel(n_jobs=-1)]: Done  80 tasks      | elapsed: 118.5min\n",
      "[Parallel(n_jobs=-1)]: Done  81 tasks      | elapsed: 129.0min\n",
      "[Parallel(n_jobs=-1)]: Done  82 tasks      | elapsed: 129.2min\n",
      "[Parallel(n_jobs=-1)]: Done  83 tasks      | elapsed: 129.3min\n",
      "[Parallel(n_jobs=-1)]: Done  84 tasks      | elapsed: 129.3min\n",
      "[Parallel(n_jobs=-1)]: Done  85 tasks      | elapsed: 129.3min\n",
      "[Parallel(n_jobs=-1)]: Done  86 tasks      | elapsed: 129.4min\n",
      "[Parallel(n_jobs=-1)]: Done  87 tasks      | elapsed: 132.1min\n",
      "[Parallel(n_jobs=-1)]: Done  88 tasks      | elapsed: 132.4min\n",
      "[Parallel(n_jobs=-1)]: Done  89 tasks      | elapsed: 142.7min\n",
      "[Parallel(n_jobs=-1)]: Done  90 tasks      | elapsed: 143.0min\n",
      "[Parallel(n_jobs=-1)]: Done  91 tasks      | elapsed: 143.0min\n",
      "[Parallel(n_jobs=-1)]: Done  92 tasks      | elapsed: 143.0min\n",
      "[Parallel(n_jobs=-1)]: Done  93 tasks      | elapsed: 143.0min\n",
      "[Parallel(n_jobs=-1)]: Done  94 tasks      | elapsed: 143.0min\n",
      "[Parallel(n_jobs=-1)]: Done  95 tasks      | elapsed: 145.5min\n",
      "[Parallel(n_jobs=-1)]: Done  96 tasks      | elapsed: 146.0min\n",
      "[Parallel(n_jobs=-1)]: Done  97 tasks      | elapsed: 161.5min\n",
      "[Parallel(n_jobs=-1)]: Done  98 tasks      | elapsed: 161.9min\n",
      "[Parallel(n_jobs=-1)]: Done  99 tasks      | elapsed: 162.0min\n",
      "[Parallel(n_jobs=-1)]: Done 100 tasks      | elapsed: 162.0min\n",
      "[Parallel(n_jobs=-1)]: Done 101 tasks      | elapsed: 162.0min\n",
      "[Parallel(n_jobs=-1)]: Done 102 tasks      | elapsed: 162.1min\n",
      "[Parallel(n_jobs=-1)]: Done 103 tasks      | elapsed: 165.7min\n",
      "[Parallel(n_jobs=-1)]: Done 104 tasks      | elapsed: 166.4min\n",
      "[Parallel(n_jobs=-1)]: Done 105 tasks      | elapsed: 181.3min\n",
      "[Parallel(n_jobs=-1)]: Done 106 tasks      | elapsed: 181.8min\n",
      "[Parallel(n_jobs=-1)]: Done 107 tasks      | elapsed: 181.9min\n",
      "[Parallel(n_jobs=-1)]: Done 108 tasks      | elapsed: 181.9min\n",
      "[Parallel(n_jobs=-1)]: Done 109 tasks      | elapsed: 182.0min\n",
      "[Parallel(n_jobs=-1)]: Done 110 tasks      | elapsed: 182.1min\n",
      "[Parallel(n_jobs=-1)]: Done 111 tasks      | elapsed: 185.7min\n",
      "[Parallel(n_jobs=-1)]: Done 112 tasks      | elapsed: 186.6min\n",
      "[Parallel(n_jobs=-1)]: Done 113 tasks      | elapsed: 202.0min\n",
      "[Parallel(n_jobs=-1)]: Done 114 tasks      | elapsed: 202.6min\n",
      "[Parallel(n_jobs=-1)]: Done 115 tasks      | elapsed: 202.7min\n",
      "[Parallel(n_jobs=-1)]: Done 116 tasks      | elapsed: 202.8min\n",
      "[Parallel(n_jobs=-1)]: Done 117 tasks      | elapsed: 202.8min\n",
      "[Parallel(n_jobs=-1)]: Done 118 tasks      | elapsed: 202.9min\n",
      "[Parallel(n_jobs=-1)]: Done 119 tasks      | elapsed: 206.4min\n",
      "[Parallel(n_jobs=-1)]: Done 120 tasks      | elapsed: 207.5min\n",
      "[Parallel(n_jobs=-1)]: Done 121 tasks      | elapsed: 222.4min\n",
      "[Parallel(n_jobs=-1)]: Done 122 tasks      | elapsed: 223.0min\n",
      "[Parallel(n_jobs=-1)]: Done 123 tasks      | elapsed: 223.1min\n",
      "[Parallel(n_jobs=-1)]: Done 124 tasks      | elapsed: 223.1min\n",
      "[Parallel(n_jobs=-1)]: Done 125 tasks      | elapsed: 223.2min\n",
      "[Parallel(n_jobs=-1)]: Done 126 tasks      | elapsed: 223.4min\n",
      "[Parallel(n_jobs=-1)]: Done 127 tasks      | elapsed: 226.5min\n",
      "[Parallel(n_jobs=-1)]: Done 128 tasks      | elapsed: 227.5min\n",
      "[Parallel(n_jobs=-1)]: Done 129 tasks      | elapsed: 241.9min\n",
      "[Parallel(n_jobs=-1)]: Done 130 tasks      | elapsed: 242.6min\n"
     ]
    },
    {
     "name": "stderr",
     "output_type": "stream",
     "text": [
      "[Parallel(n_jobs=-1)]: Done 131 tasks      | elapsed: 242.6min\n",
      "[Parallel(n_jobs=-1)]: Done 132 tasks      | elapsed: 242.7min\n",
      "[Parallel(n_jobs=-1)]: Done 133 tasks      | elapsed: 242.8min\n",
      "[Parallel(n_jobs=-1)]: Done 134 tasks      | elapsed: 242.9min\n",
      "[Parallel(n_jobs=-1)]: Done 135 tasks      | elapsed: 246.3min\n",
      "[Parallel(n_jobs=-1)]: Done 136 tasks      | elapsed: 247.6min\n",
      "[Parallel(n_jobs=-1)]: Done 137 tasks      | elapsed: 261.8min\n",
      "[Parallel(n_jobs=-1)]: Done 138 tasks      | elapsed: 262.5min\n",
      "[Parallel(n_jobs=-1)]: Done 139 tasks      | elapsed: 262.5min\n",
      "[Parallel(n_jobs=-1)]: Done 140 tasks      | elapsed: 262.6min\n",
      "[Parallel(n_jobs=-1)]: Done 141 tasks      | elapsed: 266.3min\n",
      "[Parallel(n_jobs=-1)]: Done 142 tasks      | elapsed: 266.5min\n",
      "[Parallel(n_jobs=-1)]: Done 143 tasks      | elapsed: 269.7min\n",
      "[Parallel(n_jobs=-1)]: Done 144 tasks      | elapsed: 271.3min\n",
      "[Parallel(n_jobs=-1)]: Done 145 tasks      | elapsed: 285.2min\n",
      "[Parallel(n_jobs=-1)]: Done 146 tasks      | elapsed: 285.9min\n",
      "[Parallel(n_jobs=-1)]: Done 147 tasks      | elapsed: 285.9min\n",
      "[Parallel(n_jobs=-1)]: Done 148 tasks      | elapsed: 286.0min\n",
      "[Parallel(n_jobs=-1)]: Done 149 tasks      | elapsed: 289.8min\n",
      "[Parallel(n_jobs=-1)]: Done 150 tasks      | elapsed: 289.8min\n",
      "[Parallel(n_jobs=-1)]: Done 151 tasks      | elapsed: 293.3min\n",
      "[Parallel(n_jobs=-1)]: Done 152 tasks      | elapsed: 294.7min\n",
      "[Parallel(n_jobs=-1)]: Done 153 tasks      | elapsed: 308.4min\n",
      "[Parallel(n_jobs=-1)]: Done 154 tasks      | elapsed: 309.3min\n",
      "[Parallel(n_jobs=-1)]: Done 155 tasks      | elapsed: 309.3min\n",
      "[Parallel(n_jobs=-1)]: Done 156 tasks      | elapsed: 309.4min\n",
      "[Parallel(n_jobs=-1)]: Done 157 tasks      | elapsed: 313.4min\n",
      "[Parallel(n_jobs=-1)]: Done 158 tasks      | elapsed: 313.5min\n",
      "[Parallel(n_jobs=-1)]: Done 159 tasks      | elapsed: 316.6min\n",
      "[Parallel(n_jobs=-1)]: Done 160 tasks      | elapsed: 318.0min\n",
      "[Parallel(n_jobs=-1)]: Done 161 tasks      | elapsed: 332.2min\n",
      "[Parallel(n_jobs=-1)]: Done 162 tasks      | elapsed: 333.0min\n",
      "[Parallel(n_jobs=-1)]: Done 163 tasks      | elapsed: 333.0min\n",
      "[Parallel(n_jobs=-1)]: Done 164 tasks      | elapsed: 333.2min\n",
      "[Parallel(n_jobs=-1)]: Done 165 tasks      | elapsed: 336.9min\n",
      "[Parallel(n_jobs=-1)]: Done 166 tasks      | elapsed: 337.1min\n",
      "[Parallel(n_jobs=-1)]: Done 167 tasks      | elapsed: 339.9min\n",
      "[Parallel(n_jobs=-1)]: Done 168 tasks      | elapsed: 341.5min\n",
      "[Parallel(n_jobs=-1)]: Done 169 tasks      | elapsed: 355.3min\n",
      "[Parallel(n_jobs=-1)]: Done 170 tasks      | elapsed: 356.2min\n",
      "[Parallel(n_jobs=-1)]: Done 171 tasks      | elapsed: 356.2min\n",
      "[Parallel(n_jobs=-1)]: Done 172 tasks      | elapsed: 356.3min\n",
      "[Parallel(n_jobs=-1)]: Done 173 tasks      | elapsed: 360.1min\n",
      "[Parallel(n_jobs=-1)]: Done 174 tasks      | elapsed: 360.3min\n",
      "[Parallel(n_jobs=-1)]: Done 175 tasks      | elapsed: 363.1min\n",
      "[Parallel(n_jobs=-1)]: Done 176 tasks      | elapsed: 364.8min\n",
      "[Parallel(n_jobs=-1)]: Done 177 tasks      | elapsed: 379.1min\n",
      "[Parallel(n_jobs=-1)]: Done 178 tasks      | elapsed: 380.2min\n",
      "[Parallel(n_jobs=-1)]: Done 179 tasks      | elapsed: 380.2min\n",
      "[Parallel(n_jobs=-1)]: Done 180 tasks      | elapsed: 380.4min\n",
      "[Parallel(n_jobs=-1)]: Done 181 tasks      | elapsed: 384.5min\n",
      "[Parallel(n_jobs=-1)]: Done 182 tasks      | elapsed: 384.7min\n",
      "[Parallel(n_jobs=-1)]: Done 183 tasks      | elapsed: 387.6min\n",
      "[Parallel(n_jobs=-1)]: Done 184 tasks      | elapsed: 389.4min\n",
      "[Parallel(n_jobs=-1)]: Done 185 tasks      | elapsed: 403.6min\n",
      "[Parallel(n_jobs=-1)]: Done 186 tasks      | elapsed: 404.6min\n",
      "[Parallel(n_jobs=-1)]: Done 187 tasks      | elapsed: 404.7min\n",
      "[Parallel(n_jobs=-1)]: Done 188 tasks      | elapsed: 404.9min\n",
      "[Parallel(n_jobs=-1)]: Done 189 tasks      | elapsed: 409.0min\n",
      "[Parallel(n_jobs=-1)]: Done 190 tasks      | elapsed: 409.3min\n",
      "[Parallel(n_jobs=-1)]: Done 191 tasks      | elapsed: 412.1min\n",
      "[Parallel(n_jobs=-1)]: Done 192 tasks      | elapsed: 414.1min\n",
      "[Parallel(n_jobs=-1)]: Done 193 tasks      | elapsed: 428.2min\n",
      "[Parallel(n_jobs=-1)]: Done 194 tasks      | elapsed: 429.3min\n",
      "[Parallel(n_jobs=-1)]: Done 195 tasks      | elapsed: 429.4min\n",
      "[Parallel(n_jobs=-1)]: Done 206 out of 210 | elapsed: 459.9min remaining:  8.9min\n",
      "[Parallel(n_jobs=-1)]: Done 210 out of 210 | elapsed: 470.9min finished\n"
     ]
    }
   ],
   "source": [
    "max_depth_2 = np.arange(5,8,1)\n",
    "num_round_2 = np.arange(500,4000,500)\n",
    "kfold = StratifiedKFold(n_splits=10, shuffle=True, random_state=100)\n",
    "\n",
    "param_grid_2 = dict()\n",
    "param_grid_2['max_depth'] = max_depth_2\n",
    "param_grid_2['num_round'] = num_round_2\n",
    "\n",
    "xgb_grid_search_2 = XGBClassifier(param=param)\n",
    "grid_search_2 = GridSearchCV(xgb_grid_search_2, param_grid=param_grid_2, n_jobs=-1, cv=kfold, \n",
    "                             verbose=20, scoring='roc_auc')\n",
    "grid_result_2 = grid_search_2.fit(x_train, y_train)\n"
   ]
  },
  {
   "cell_type": "code",
   "execution_count": 40,
   "metadata": {
    "collapsed": true
   },
   "outputs": [
    {
     "name": "stdout",
     "output_type": "stream",
     "text": [
      "Best: 0.852832 using {'max_depth': 7, 'num_round': 500}\n",
      "0.847043 (0.005371) with: {'max_depth': 5, 'num_round': 500}\n",
      "0.847043 (0.005371) with: {'max_depth': 5, 'num_round': 1000}\n",
      "0.847043 (0.005371) with: {'max_depth': 5, 'num_round': 1500}\n",
      "0.847043 (0.005371) with: {'max_depth': 5, 'num_round': 2000}\n",
      "0.847043 (0.005371) with: {'max_depth': 5, 'num_round': 2500}\n",
      "0.847043 (0.005371) with: {'max_depth': 5, 'num_round': 3000}\n",
      "0.847043 (0.005371) with: {'max_depth': 5, 'num_round': 3500}\n",
      "0.851464 (0.003896) with: {'max_depth': 6, 'num_round': 500}\n",
      "0.851464 (0.003896) with: {'max_depth': 6, 'num_round': 1000}\n",
      "0.851464 (0.003896) with: {'max_depth': 6, 'num_round': 1500}\n",
      "0.851464 (0.003896) with: {'max_depth': 6, 'num_round': 2000}\n",
      "0.851464 (0.003896) with: {'max_depth': 6, 'num_round': 2500}\n",
      "0.851464 (0.003896) with: {'max_depth': 6, 'num_round': 3000}\n",
      "0.851464 (0.003896) with: {'max_depth': 6, 'num_round': 3500}\n",
      "0.852832 (0.005060) with: {'max_depth': 7, 'num_round': 500}\n",
      "0.852832 (0.005060) with: {'max_depth': 7, 'num_round': 1000}\n",
      "0.852832 (0.005060) with: {'max_depth': 7, 'num_round': 1500}\n",
      "0.852832 (0.005060) with: {'max_depth': 7, 'num_round': 2000}\n",
      "0.852832 (0.005060) with: {'max_depth': 7, 'num_round': 2500}\n",
      "0.852832 (0.005060) with: {'max_depth': 7, 'num_round': 3000}\n",
      "0.852832 (0.005060) with: {'max_depth': 7, 'num_round': 3500}\n"
     ]
    }
   ],
   "source": [
    "summarize_cv_results(grid_result_2)"
   ]
  },
  {
   "cell_type": "code",
   "execution_count": 46,
   "metadata": {},
   "outputs": [
    {
     "name": "stdout",
     "output_type": "stream",
     "text": [
      "Fitting 2 folds for each of 3 candidates, totalling 6 fits\n"
     ]
    },
    {
     "name": "stderr",
     "output_type": "stream",
     "text": [
      "[Parallel(n_jobs=-1)]: Using backend LokyBackend with 8 concurrent workers.\n",
      "[Parallel(n_jobs=-1)]: Done   1 tasks      | elapsed:  4.4min\n",
      "[Parallel(n_jobs=-1)]: Done   2 out of   6 | elapsed:  4.4min remaining:  8.9min\n",
      "[Parallel(n_jobs=-1)]: Done   3 out of   6 | elapsed:  4.4min remaining:  4.4min\n",
      "[Parallel(n_jobs=-1)]: Done   4 out of   6 | elapsed:  4.4min remaining:  2.2min\n",
      "[Parallel(n_jobs=-1)]: Done   6 out of   6 | elapsed:  4.5min remaining:    0.0s\n",
      "[Parallel(n_jobs=-1)]: Done   6 out of   6 | elapsed:  4.5min finished\n"
     ]
    }
   ],
   "source": [
    "param['max_depth'] = 7\n",
    "xgb_grid_search_3 = XGBClassifier(param=param)\n",
    "param_grid_3 = dict()\n",
    "param_grid_3['num_boost_round'] = np.arange(100,1000,300)\n",
    "grid_result_3 = perform_grid_search(model=xgb_grid_search_3, x_train=x_train, y_train=y_train,\n",
    "                                   param_grid=param_grid_3, kfold_splits=2)"
   ]
  },
  {
   "cell_type": "code",
   "execution_count": 48,
   "metadata": {},
   "outputs": [
    {
     "data": {
      "text/plain": [
       "{'max_depth': 7, 'num_round': 8000}"
      ]
     },
     "execution_count": 48,
     "metadata": {},
     "output_type": "execute_result"
    }
   ],
   "source": [
    "param"
   ]
  },
  {
   "cell_type": "code",
   "execution_count": 49,
   "metadata": {},
   "outputs": [
    {
     "data": {
      "text/plain": [
       "{'num_boost_round': array([100, 400, 700])}"
      ]
     },
     "execution_count": 49,
     "metadata": {},
     "output_type": "execute_result"
    }
   ],
   "source": [
    "param_grid_3"
   ]
  },
  {
   "cell_type": "code",
   "execution_count": 47,
   "metadata": {},
   "outputs": [
    {
     "name": "stdout",
     "output_type": "stream",
     "text": [
      "Best: 0.828269 using {'num_boost_round': 100}\n",
      "0.828269 (0.002875) with: {'num_boost_round': 100}\n",
      "0.828269 (0.002875) with: {'num_boost_round': 400}\n",
      "0.828269 (0.002875) with: {'num_boost_round': 700}\n"
     ]
    }
   ],
   "source": [
    "summarize_cv_results(grid_result_3)"
   ]
  },
  {
   "cell_type": "code",
   "execution_count": 45,
   "metadata": {},
   "outputs": [
    {
     "data": {
      "text/plain": [
       "{'max_depth': 7, 'num_round': 8000}"
      ]
     },
     "execution_count": 45,
     "metadata": {},
     "output_type": "execute_result"
    }
   ],
   "source": [
    "param = {'eta': 0.1, 'verbosity': 2, 'objective': 'binary:logistic', 'eval_metric': 'auc', \n",
    "         'subsample':0.8, 'alpha': 0.2, 'early_stopping_rounds': 20, 'max_depth':7,\n",
    "        }\n"
   ]
  },
  {
   "cell_type": "code",
   "execution_count": 51,
   "metadata": {},
   "outputs": [
    {
     "data": {
      "text/plain": [
       "array([2000, 4000, 6000, 8000])"
      ]
     },
     "execution_count": 51,
     "metadata": {},
     "output_type": "execute_result"
    }
   ],
   "source": [
    "num_round"
   ]
  },
  {
   "cell_type": "code",
   "execution_count": 50,
   "metadata": {},
   "outputs": [
    {
     "ename": "TypeError",
     "evalue": "only integer scalar arrays can be converted to a scalar index",
     "output_type": "error",
     "traceback": [
      "\u001b[0;31m---------------------------------------------------------------------------\u001b[0m",
      "\u001b[0;31mTypeError\u001b[0m                                 Traceback (most recent call last)",
      "\u001b[0;32m<ipython-input-50-1818db2023cd>\u001b[0m in \u001b[0;36m<module>\u001b[0;34m\u001b[0m\n\u001b[1;32m      1\u001b[0m \u001b[0mparam\u001b[0m\u001b[0;34m[\u001b[0m\u001b[0;34m'early_stopping_rounds'\u001b[0m\u001b[0;34m]\u001b[0m\u001b[0;34m=\u001b[0m\u001b[0;36m20\u001b[0m\u001b[0;34m\u001b[0m\u001b[0;34m\u001b[0m\u001b[0m\n\u001b[1;32m      2\u001b[0m xgb_model_with_params_early_stop = xgb.cv(param, dtrain, num_boost_round=num_round, nfold=4, \n\u001b[0;32m----> 3\u001b[0;31m                                verbose_eval=True)\n\u001b[0m",
      "\u001b[0;32m~/My Project/santander-transaction/venv/lib/python3.7/site-packages/xgboost/training.py\u001b[0m in \u001b[0;36mcv\u001b[0;34m(params, dtrain, num_boost_round, nfold, stratified, folds, metrics, obj, feval, maximize, early_stopping_rounds, fpreproc, as_pandas, verbose_eval, show_stdv, seed, callbacks, shuffle)\u001b[0m\n\u001b[1;32m    433\u001b[0m         cb for cb in callbacks if not cb.__dict__.get('before_iteration', False)]\n\u001b[1;32m    434\u001b[0m \u001b[0;34m\u001b[0m\u001b[0m\n\u001b[0;32m--> 435\u001b[0;31m     \u001b[0;32mfor\u001b[0m \u001b[0mi\u001b[0m \u001b[0;32min\u001b[0m \u001b[0mrange\u001b[0m\u001b[0;34m(\u001b[0m\u001b[0mnum_boost_round\u001b[0m\u001b[0;34m)\u001b[0m\u001b[0;34m:\u001b[0m\u001b[0;34m\u001b[0m\u001b[0;34m\u001b[0m\u001b[0m\n\u001b[0m\u001b[1;32m    436\u001b[0m         \u001b[0;32mfor\u001b[0m \u001b[0mcb\u001b[0m \u001b[0;32min\u001b[0m \u001b[0mcallbacks_before_iter\u001b[0m\u001b[0;34m:\u001b[0m\u001b[0;34m\u001b[0m\u001b[0;34m\u001b[0m\u001b[0m\n\u001b[1;32m    437\u001b[0m             cb(CallbackEnv(model=None,\n",
      "\u001b[0;31mTypeError\u001b[0m: only integer scalar arrays can be converted to a scalar index"
     ]
    }
   ],
   "source": [
    "param['early_stopping_rounds']=20\n",
    "xgb_model_with_params_early_stop = xgb.cv(param, dtrain, num_boost_round=num_round, nfold=4, \n",
    "                               verbose_eval=True)"
   ]
  },
  {
   "cell_type": "code",
   "execution_count": 19,
   "metadata": {},
   "outputs": [
    {
     "data": {
      "text/plain": [
       "9999"
      ]
     },
     "execution_count": 19,
     "metadata": {},
     "output_type": "execute_result"
    }
   ],
   "source": [
    "xgb_model_with_params.best_iteration"
   ]
  },
  {
   "cell_type": "code",
   "execution_count": 20,
   "metadata": {},
   "outputs": [
    {
     "data": {
      "text/plain": [
       "<matplotlib.axes._subplots.AxesSubplot at 0x12ed9eda0>"
      ]
     },
     "execution_count": 20,
     "metadata": {},
     "output_type": "execute_result"
    },
    {
     "data": {
      "image/png": "[encoded data removed]",
      "text/plain": [
       "<Figure size 432x288 with 1 Axes>"
      ]
     },
     "metadata": {
      "needs_background": "light"
     },
     "output_type": "display_data"
    }
   ],
   "source": [
    "xgb.plot_importance(xgb_model_with_params, max_num_features=20)"
   ]
  }
 ],
 "metadata": {
  "kernelspec": {
   "display_name": "Python 3",
   "language": "python",
   "name": "python3"
  },
  "language_info": {
   "codemirror_mode": {
    "name": "ipython",
    "version": 3
   },
   "file_extension": ".py",
   "mimetype": "text/x-python",
   "name": "python",
   "nbconvert_exporter": "python",
   "pygments_lexer": "ipython3",
   "version": "3.7.1"
  }
 },
 "nbformat": 4,
 "nbformat_minor": 2
}
